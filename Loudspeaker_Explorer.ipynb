{
  "nbformat": 4,
  "nbformat_minor": 0,
  "metadata": {
    "colab": {
      "name": "Loudspeaker Explorer.ipynb",
      "provenance": [],
      "collapsed_sections": [],
      "toc_visible": true,
      "authorship_tag": "ABX9TyNTKBO/NxNqpe9dELO0Z5u2",
      "include_colab_link": true
    },
    "kernelspec": {
      "name": "python3",
      "display_name": "Python 3"
    }
  },
  "cells": [
    {
      "cell_type": "markdown",
      "metadata": {
        "id": "view-in-github",
        "colab_type": "text"
      },
      "source": [
        "<a href=\"https://colab.research.google.com/github/dechamps/LoudspeakerExplorer/blob/master/Loudspeaker_Explorer.ipynb\" target=\"_parent\"><img src=\"https://colab.research.google.com/assets/colab-badge.svg\" alt=\"Open In Colab\"/></a>"
      ]
    },
    {
      "cell_type": "markdown",
      "metadata": {
        "id": "04RRpMNFkSxn",
        "colab_type": "text"
      },
      "source": [
        "# The Loudspeaker Explorer\n",
        "\n",
        "*By Etienne Dechamps (etienne@edechamps.fr)* - [GitHub](https://github.com/dechamps/LoudspeakerExplorer)\n",
        "\n",
        "Welcome to the Loudspeaker Explorer, a speaker measurement visualization, analysis and comparison tool. This is an interactive [Colaboratory Notebook](https://colab.research.google.com/).\n",
        "\n",
        "## How to use this notebook\n",
        "\n",
        "To run the code and (re)generate the data, go to the **Runtime** menu and click **Run all** (CTRL+F9). **You will need to repeat this every time you change any of the settings or code** (e.g. if you enable or disable speakers).\n",
        "\n",
        "**All the charts are interactive.** Use the mousewheel to zoom, and drag & drop to pan. Re-run the code block to reset the view.\n",
        "\n",
        "**Charts will not be generated if the section they're under is folded while the code runs.** To manually load a chart, click the Run (Play) icon next to the code block above it. Or use *Run all* again after unfolding the section.\n",
        "\n",
        "## Acknowledgments\n",
        "\n",
        "None of this would have been possible without [amirm](https://www.audiosciencereview.com/forum/index.php?members/amirm.2/)'s [tremendous work](https://www.audiosciencereview.com/forum/index.php?threads/announcement-asr-will-be-measuring-speakers.10725/) in measuring speakers. All the data used by this tool is from measurements made by amirm for [AudioScienceReview](https://www.audiosciencereview.com/). If you like what you see, [consider making a donation](https://www.audiosciencereview.com/forum/index.php?threads/how-to-support-audio-science-review.8150/).\n",
        "\n",
        "## License\n",
        "\n",
        "Loudspeaker Explorer is published under [MIT License](https://github.com/dechamps/LoudspeakerExplorer/blob/master/LICENSE.txt). Note that input data, including measurement data and pictures, is not part of Loudspeaker Explorer - it is published by third parties under potentially different licenses."
      ]
    },
    {
      "cell_type": "markdown",
      "metadata": {
        "id": "ZOhKCU3Go26x",
        "colab_type": "text"
      },
      "source": [
        "# Preliminary boilerplate"
      ]
    },
    {
      "cell_type": "code",
      "metadata": {
        "id": "NhdyLTvTovip",
        "colab_type": "code",
        "colab": {}
      },
      "source": [
        "!pip install engarde yattag\n",
        "\n",
        "from pathlib import Path\n",
        "import numpy as np\n",
        "import pandas as pd\n",
        "import engarde.decorators as ed\n",
        "import ipywidgets as widgets\n",
        "from IPython.display import display\n",
        "import yattag"
      ],
      "execution_count": 0,
      "outputs": []
    },
    {
      "cell_type": "markdown",
      "metadata": {
        "id": "_xFyFEAhA_EB",
        "colab_type": "text"
      },
      "source": [
        "# Speaker selection\n",
        "\n",
        "Note that the following speakers, despite having been measured by amirm, are not (yet) available in this tool:\n",
        "\n",
        " - [**JBL LSR305P**](https://www.audiosciencereview.com/forum/index.php?threads/jbl-305p-mkii-and-control-1-pro-monitors-review.10811/): the raw data [was not published](https://www.audiosciencereview.com/forum/index.php?threads/jbl-305p-mkii-and-control-1-pro-monitors-review.10811/page-26#post-329287) .\n",
        " - [**Kali IN-8 (damaged sample)**](https://www.audiosciencereview.com/forum/index.php?threads/kali-audio-in-8-studio-monitor-review.10897/): the raw data was not published. The data shown here is for the [good sample](https://www.audiosciencereview.com/forum/index.php?threads/kali-audio-in-8-studio-monitor-review.10897/page-29#post-318617).\n",
        " - [**Neumann KH80 (sample 2, low order)**](https://www.audiosciencereview.com/forum/index.php?threads/neumann-kh-80-dsp-speaker-measurements-take-two.11323/): the raw data was not published. The data shown here is from the [high order measurement](https://www.audiosciencereview.com/forum/index.php?threads/neumann-kh-80-dsp-speaker-measurements-take-two.11323/page-12#post-324456).\n",
        " - [**NHT Pro M-00**](https://www.audiosciencereview.com/forum/index.php?threads/nht-pro-m-00-powered-monitor-review.10859/): the raw data was not published.\n",
        " - [**Revel C52**](https://www.audiosciencereview.com/forum/index.php?threads/revel-c52-speaker-review-and-measurements.10934/): the raw data published is incomplete and does not come in the standard zipfile format that the tool expects.\n",
        " - [**Yamaha HS5**](https://www.audiosciencereview.com/forum/index.php?threads/yamaha-hs5-powered-monitor-review.10967/): the raw data published is incomplete and does not come in the standard zipfile format that the tool expects.\n",
        "\n",
        "Also note that **Neumann KH80 (sample 1)** is missing *Directivity Index* data.\n",
        "\n",
        "**How to add a new speaker**: add a new variable in the \"Enable/Disable speakers\" code block, and repeat the pattern in the \"Raw speaker specification\" code block. That's it - everything else should take care of itself. Note that the tool expects a zipfile in the format that amirm publishes (which presumably is the Klippel analysis software export format). If you want to upload the zipfile manually instead of using `Data URL`, you can do that using the Colab file browser on the left - just make sure the name of the file matches the `Speaker` field in the raw specification so that the tool can find it."
      ]
    },
    {
      "cell_type": "markdown",
      "metadata": {
        "id": "vbT7q38fvcLa",
        "colab_type": "text"
      },
      "source": [
        "## Enable/Disable speakers\n",
        "\n",
        "This is the most important setting. Here you can select the speakers you wish to analyze and compare. See the *Speaker list* section below for more information on each speaker. **Don't forget to use \"Run all\" after changing your selection.**"
      ]
    },
    {
      "cell_type": "code",
      "metadata": {
        "id": "laytqyKSBBUI",
        "colab_type": "code",
        "colab": {}
      },
      "source": [
        "speaker_enable_AdamAudio_S2V = False #@param {type:\"boolean\"}\n",
        "speaker_enable_DaytonAudio_B652AIR = True #@param {type:\"boolean\"}\n",
        "speaker_enable_Emotiva_Airmotiv6s = False #@param {type:\"boolean\"}\n",
        "speaker_enable_Harbeth_Monitor30_LowOrder = False #@param {type:\"boolean\"}\n",
        "speaker_enable_Harbeth_Monitor30_HighOrder = False #@param {type:\"boolean\"}\n",
        "speaker_enable_JBL_Control1Pro = False #@param {type:\"boolean\"}\n",
        "speaker_enable_JBL_OneSeries104 = False #@param {type:\"boolean\"}\n",
        "speaker_enable_Kali_IN8 = False #@param {type:\"boolean\"}\n",
        "speaker_enable_KEF_LS50 = False #@param {type:\"boolean\"}\n",
        "speaker_enable_Micca_RB42 = True #@param {type:\"boolean\"}\n",
        "speaker_enable_Neumann_KH80_Sample1 = False #@param {type:\"boolean\"}\n",
        "speaker_enable_Neumann_KH80_Sample2 = True #@param {type:\"boolean\"}\n",
        "speaker_enable_Pioneer_SPBS22LR = False #@param {type:\"boolean\"}\n",
        "speaker_enable_Realistic_MC1000 = False #@param {type:\"boolean\"}\n",
        "speaker_enable_SelahAudio_RC3R = False #@param {type:\"boolean\"}"
      ],
      "execution_count": 0,
      "outputs": []
    },
    {
      "cell_type": "markdown",
      "metadata": {
        "id": "Xz_e10hWvhQs",
        "colab_type": "text"
      },
      "source": [
        "## Raw speaker specification"
      ]
    },
    {
      "cell_type": "code",
      "metadata": {
        "id": "KxMbO72a7Dgh",
        "colab_type": "code",
        "cellView": "code",
        "colab": {}
      },
      "source": [
        "speakers = pd.DataFrame([{\n",
        "    'Speaker': 'Adam Audio S2V',\n",
        "    'Enabled': speaker_enable_AdamAudio_S2V,\n",
        "    'Data URL': 'https://www.audiosciencereview.com/forum/index.php?attachments/adam-s2v-spinorama-cea2034-zip.50119/',\n",
        "    'Review URL': 'https://www.audiosciencereview.com/forum/index.php?threads/adam-s2v-studio-monitor-review.11455/',\n",
        "    'Product URL': 'https://www.adam-audio.com/en/s-series/s2v/',\n",
        "    'Picture URL': 'https://www.audiosciencereview.com/forum/index.php?attachments/adam-s2v-monitor-powered-studio-speaker-audio-review-jpg.50100/',\n",
        "    'Active': True,\n",
        "    'Price (Single, USD)': 875.00,\n",
        "  }, {\n",
        "    'Speaker': 'Dayton Audio B652-AIR',\n",
        "    'Enabled': speaker_enable_DaytonAudio_B652AIR,\n",
        "    'Data URL': 'https://www.audiosciencereview.com/forum/index.php?attachments/dayton-audio-b652-air-spinorama-zip.49763/',\n",
        "    'Review URL': 'https://www.audiosciencereview.com/forum/index.php?threads/dayton-audio-b652-air-speaker-review.11410/',\n",
        "    'Product URL': 'https://www.daytonaudio.com/product/1243/b652-air-6-1-2-2-way-bookshelf-speaker-with-amt-tweeter-pair',\n",
        "    'Picture URL': 'https://www.audiosciencereview.com/forum/index.php?attachments/dayton-audio-b652-air-bookshelf-cheap-speakers-audio-review-jpg.49739/',\n",
        "    'Active': False,\n",
        "    'Price (Single, USD)': 39.00,\n",
        "  }, {\n",
        "    'Speaker': 'Emotiva Airmotiv 6s',\n",
        "    'Enabled': speaker_enable_Emotiva_Airmotiv6s,\n",
        "    'Data URL': 'https://www.audiosciencereview.com/forum/index.php?attachments/emotiva-airmotive-6s-spinorama-zip.48091/',\n",
        "    'Review URL': 'https://www.audiosciencereview.com/forum/index.php?threads/emotiva-airmotiv-6s-powered-speaker-review.11185/',\n",
        "    'Picture URL': 'https://www.audiosciencereview.com/forum/index.php?attachments/emotiva-airmotive-6s-powered-monitor-speaker-review-jpg.48017/',\n",
        "    'Active': True,\n",
        "    'Price (Single, USD)': 250.00,\n",
        "  }, {\n",
        "    'Speaker': 'Harbeth Monitor 30 (low order)',\n",
        "    'Enabled': speaker_enable_Harbeth_Monitor30_LowOrder,\n",
        "    'Data URL': 'https://www.audiosciencereview.com/forum/index.php?attachments/harbeth-monitor-ces2034-spinorama-zip.47527/',\n",
        "    'Review URL': 'https://www.audiosciencereview.com/forum/index.php?threads/harbeth-monitor-30-speaker-review.11108/',\n",
        "    'Picture URL': 'https://www.audiosciencereview.com/forum/index.php?attachments/harbeth-monitor-30-speaker-review-jpg.47512/',\n",
        "    'Active': False,\n",
        "    'Price (Single, USD)': 1600.00,\n",
        "  }, {\n",
        "    'Speaker': 'Harbeth Monitor 30 (high order)',\n",
        "    'Enabled': speaker_enable_Harbeth_Monitor30_HighOrder,\n",
        "    'Data URL': 'https://www.audiosciencereview.com/forum/index.php?attachments/harbeth-30-high-order-spin-data-zip.49385/',\n",
        "    'Review URL': 'https://www.audiosciencereview.com/forum/index.php?threads/neumann-kh-80-dsp-speaker-measurements-take-two.11323/page-10#post-324345',\n",
        "    'Picture URL': 'https://www.audiosciencereview.com/forum/index.php?attachments/harbeth-monitor-30-speaker-review-jpg.47512/',\n",
        "    'Active': False,\n",
        "    'Price (Single, USD)': 1600.00,\n",
        "  }, {\n",
        "    'Speaker': 'JBL Control 1 Pro',\n",
        "    'Enabled': speaker_enable_JBL_Control1Pro,\n",
        "    # https://www.audiosciencereview.com/forum/index.php?threads/jbl-305p-mkii-and-control-1-pro-monitors-review.10811/page-24#post-315827\n",
        "    'Data URL': 'https://www.audiosciencereview.com/forum/index.php?attachments/jbl-control-1-pro-zip.47821/',\n",
        "    'Review URL': 'https://www.audiosciencereview.com/forum/index.php?threads/jbl-305p-mkii-and-control-1-pro-monitors-review.10811/',\n",
        "    'Product URL': 'https://jblpro.com/en/products/control-1-pro',\n",
        "    'Picture URL': 'https://www.audiosciencereview.com/forum/index.php?attachments/jbl-control-1-pro-monitor-review-jpg.45228/',\n",
        "    'Active': True,\n",
        "    'Price (Single, USD)': 82.00,\n",
        "  }, {\n",
        "    'Speaker': 'JBL One Series 104',\n",
        "    'Enabled': speaker_enable_JBL_OneSeries104,\n",
        "    'Data URL': 'https://www.audiosciencereview.com/forum/index.php?attachments/jbl-104-spinorama-zip.47297/',\n",
        "    'Review URL': 'https://www.audiosciencereview.com/forum/index.php?threads/jbl-one-series-104-powered-monitor-review.11076/',\n",
        "    'Product URL': 'https://jblpro.com/en-US/products/104',\n",
        "    'Picture URL': 'https://www.audiosciencereview.com/forum/index.php?attachments/jbl-one-series-104-powered-monitor-speaker-review-jpg.47273/',\n",
        "    'Active': True,\n",
        "    'Price (Single, USD)': 65.00,\n",
        "  }, {\n",
        "    'Speaker': 'Kali Audio IN-8',\n",
        "    'Enabled': speaker_enable_Kali_IN8,\n",
        "    'Data URL': 'https://www.audiosciencereview.com/forum/index.php?attachments/kali-in-8-spinorama-zip.48347/',\n",
        "    'Review URL': 'https://www.audiosciencereview.com/forum/index.php?threads/kali-audio-in-8-studio-monitor-review.10897/page-29#post-318617',\n",
        "    'Product URL': 'https://www.kaliaudio.com/independence',\n",
        "    'Picture URL': 'https://www.audiosciencereview.com/forum/index.php?attachments/kali-audio-in-8-studio-monitor-powered-speaker-review-jpg.45827/',\n",
        "    'Active': True,\n",
        "    'Price (Single, USD)': 400.00,\n",
        "  }, {\n",
        "    'Speaker': 'KEF LS50',\n",
        "    'Enabled': speaker_enable_KEF_LS50,\n",
        "    'Data URL': 'https://www.audiosciencereview.com/forum/index.php?attachments/kef-ls50-ces2034-zip.47785/',\n",
        "    'Review URL': 'https://www.audiosciencereview.com/forum/index.php?threads/kef-ls50-bookshelf-speaker-review.11144/',\n",
        "    'Product URL': 'https://us.kef.com/catalog/product/view/id/1143/s/ls50-mini-monitor-speaker-pair/category/94/',\n",
        "    'Picture URL': 'https://www.audiosciencereview.com/forum/index.php?attachments/kef-ls50-bookshelf-speaker-review-jpg.47768/',\n",
        "    'Active': False,\n",
        "    'Price (Single, USD)': 750.00,\n",
        "  }, {\n",
        "    'Speaker': 'Micca RB42',\n",
        "    'Enabled': speaker_enable_Micca_RB42,\n",
        "    'Data URL': 'https://www.audiosciencereview.com/forum/index.php?attachments/micca-rb42-cea2034-spinorama-zip.48638/',\n",
        "    'Review URL': 'https://www.audiosciencereview.com/forum/index.php?threads/micca-rb42-bookshelf-speaker-review.11267/',\n",
        "    'Product URL': 'https://www.miccatron.com/micca-rb42-reference-bookshelf-speakers/',\n",
        "    'Picture URL': 'https://www.audiosciencereview.com/forum/index.php?attachments/micca-rb42-bookshelf-budget-speaker-review-jpg.48623/',\n",
        "    'Active': False,\n",
        "    'Price (Single, USD)': 75.00,\n",
        "  }, {\n",
        "    'Speaker': 'Neumann KH 80 DSP (sample 1)',\n",
        "    'Enabled': speaker_enable_Neumann_KH80_Sample1,\n",
        "    'Data URL': 'https://www.audiosciencereview.com/forum/index.php?attachments/neumann-kh-80-cea2034-zip.46824/',\n",
        "    'Review URL': 'https://www.audiosciencereview.com/forum/index.php?threads/neumann-kh-80-dsp-monitor-review.11018/',\n",
        "    'Product URL': 'https://www.neumann.com/homestudio/en/kh-80',\n",
        "    'Picture URL': 'https://www.audiosciencereview.com/forum/index.php?attachments/neumann-kh-80-dsp-monitor-active-studio-pro-speaker-audio-review-jpg.46803/',\n",
        "    'Active': True,\n",
        "    'Price (Single, USD)': 500.00,\n",
        "  }, {\n",
        "    'Speaker': 'Neumann KH 80 DSP (sample 2)',\n",
        "    'Enabled': speaker_enable_Neumann_KH80_Sample2,\n",
        "    # https://www.audiosciencereview.com/forum/index.php?threads/neumann-kh-80-dsp-speaker-measurements-take-two.11323/page-12#post-324456\n",
        "    'Data URL': 'https://www.audiosciencereview.com/forum/index.php?attachments/neumann-kh80-dsp-1000-point-order-20-spin-datra-zip.49443/',\n",
        "    'Review URL': 'https://www.audiosciencereview.com/forum/index.php?threads/neumann-kh-80-dsp-speaker-measurements-take-two.11323/',\n",
        "    'Product URL': 'https://www.neumann.com/homestudio/en/kh-80',\n",
        "    'Picture URL': 'https://www.audiosciencereview.com/forum/index.php?attachments/neumann-kh-80-dsp-monitor-active-studio-pro-speaker-audio-review-jpg.46803/',\n",
        "    'Active': True,\n",
        "    'Price (Single, USD)': 500.00,\n",
        "  }, {\n",
        "    'Speaker': 'Pioneer SP-BS22-LR',\n",
        "    'Enabled': speaker_enable_Pioneer_SPBS22LR,\n",
        "    'Data URL': 'https://www.audiosciencereview.com/forum/index.php?attachments/pioneer-sp-bs22-lr-spinorama-2-zip.49024/',\n",
        "    'Review URL': 'https://www.audiosciencereview.com/forum/index.php?threads/pioneer-sp-bs22-lr-bookshelf-speaker-review.11303/',\n",
        "    'Product URL': 'https://intl.pioneer-audiovisual.com/products/speakers/sp-bs22-lr/',\n",
        "    'Picture URL': 'https://www.audiosciencereview.com/forum/index.php?attachments/pioneer-sp-bs22-lr-budget-bookshelf-speaker-review-jpg.48945/',\n",
        "    'Active': False,\n",
        "    'Price (Single, USD)': 80.00,\n",
        "  }, {\n",
        "    'Speaker': 'Realistic MC-1000',\n",
        "    'Enabled': speaker_enable_Realistic_MC1000,\n",
        "    'Data URL': 'https://www.audiosciencereview.com/forum/index.php?attachments/realistic-mc-1000-spinorama-zip.48797/',\n",
        "    'Review URL': 'https://www.audiosciencereview.com/forum/index.php?threads/mc-1000-best-speaker-in-the-world.11283/',\n",
        "    'Picture URL': 'https://www.audiosciencereview.com/forum/index.php?attachments/realistic-mc-1000-radio-shack-2-way-vintage-speaker-listing-jpg.48786/',\n",
        "    'Active': False,\n",
        "    'Price (Single, USD)': 120.00,  # $30 in 1978, adjusted for inflation\n",
        "  }, {\n",
        "    'Speaker': 'Selah Audio RC3R',\n",
        "    'Enabled': speaker_enable_SelahAudio_RC3R,\n",
        "    'Data URL': 'https://www.audiosciencereview.com/forum/index.php?attachments/selah-audio-rc3r-spinorama-zip.48264/',\n",
        "    'Review URL': 'https://www.audiosciencereview.com/forum/index.php?threads/selah-audio-rc3r-3-way-speaker-review.11218/',\n",
        "    'Product URL': 'http://www.selahaudio.com/monitors',\n",
        "    'Picture URL': 'https://www.audiosciencereview.com/forum/index.php?attachments/selah-audio-rc3r-3-way-speaker-review-jpg.48249/',\n",
        "    'Active': False,\n",
        "    'Price (Single, USD)': 650.00,\n",
        "  },\n",
        "]).set_index('Speaker')"
      ],
      "execution_count": 0,
      "outputs": []
    },
    {
      "cell_type": "code",
      "metadata": {
        "id": "_TAZfS40gN1l",
        "colab_type": "code",
        "colab": {}
      },
      "source": [
        "def speaker_list_html():\n",
        "  doc, tag, text, line = yattag.Doc().ttl()\n",
        "  for speaker_name in speakers.index:\n",
        "    speaker = speakers.loc[speaker_name, :]\n",
        "    with tag('h2', style='clear: left; padding-top: 20px'):\n",
        "      text(speaker_name + (' (ENABLED)' if speaker['Enabled'] else ''))\n",
        "    doc.stag('img', src=speaker['Picture URL'], width=200, style='float: left; margin-right: 20px')\n",
        "    product_url = speaker['Product URL']\n",
        "    if not pd.isna(product_url):\n",
        "      line('a', 'Product page', href=speaker['Product URL'])\n",
        "      text(' - ')\n",
        "    line('a', 'Review', href=speaker['Review URL'])\n",
        "    text(' - ')\n",
        "    line('a', 'Data package', href=speaker['Data URL'])\n",
        "    doc.stag('br')\n",
        "    with tag('b'): text('Active' if speaker['Active'] else 'Passive')\n",
        "    doc.stag('br')\n",
        "    with tag('b'): text('Price: ')\n",
        "    text('${:.0f} (single)'.format(speaker['Price (Single, USD)']))\n",
        "  return doc.getvalue()"
      ],
      "execution_count": 0,
      "outputs": []
    },
    {
      "cell_type": "markdown",
      "metadata": {
        "id": "hwvM09h0voNa",
        "colab_type": "text"
      },
      "source": [
        "## Speaker list"
      ]
    },
    {
      "cell_type": "code",
      "metadata": {
        "id": "Z8DFJB6wflUQ",
        "colab_type": "code",
        "colab": {}
      },
      "source": [
        "speakers.loc[:, ['Enabled', 'Active', 'Price (Single, USD)']]"
      ],
      "execution_count": 0,
      "outputs": []
    },
    {
      "cell_type": "code",
      "metadata": {
        "id": "Ohnl5ExgvtGs",
        "colab_type": "code",
        "colab": {}
      },
      "source": [
        "widgets.HTML(speaker_list_html())"
      ],
      "execution_count": 0,
      "outputs": []
    },
    {
      "cell_type": "markdown",
      "metadata": {
        "id": "LrJkGq6Qi6F3",
        "colab_type": "text"
      },
      "source": [
        "# Data intake"
      ]
    },
    {
      "cell_type": "markdown",
      "metadata": {
        "id": "OvN7MtmnofOx",
        "colab_type": "text"
      },
      "source": [
        "## Download and unpack\n",
        "\n",
        "This downloads and unpacks speaker measurement data for each *enabled* speaker using the URL specified in `data_url`. This step is skipped if the files already exist in the `speaker_data` folder."
      ]
    },
    {
      "cell_type": "code",
      "metadata": {
        "id": "byzTXpiEgEZm",
        "colab_type": "code",
        "cellView": "both",
        "colab": {}
      },
      "source": [
        "Path('speaker_data').mkdir(exist_ok=True)\n",
        "for speaker_name, speaker_data_url in speakers.loc[speakers['Enabled'], 'Data URL'].items():\n",
        "  if not (Path('speaker_data') / speaker_name).exists():\n",
        "    if not (Path('speaker_data') / (speaker_name + '.zip')).exists():\n",
        "      !wget -O \"speaker_data/{speaker_name}.zip\" \"{speaker_data_url}\"\n",
        "    !unzip \"speaker_data/{speaker_name}.zip\" -d \"speaker_data/{speaker_name}\""
      ],
      "execution_count": 0,
      "outputs": []
    },
    {
      "cell_type": "markdown",
      "metadata": {
        "id": "feKcX-dQo8i3",
        "colab_type": "text"
      },
      "source": [
        "## Load\n",
        "\n",
        "This loads all data from all speakers into a single, massive `speaker_fr_raw`\n",
        "DataFrame. The DataFrame index is arranged by speaker name, then frequency. All\n",
        "data files for each speaker are merged to form the columns of the DataFrame."
      ]
    },
    {
      "cell_type": "code",
      "metadata": {
        "id": "swQuvz41m84M",
        "colab_type": "code",
        "colab": {}
      },
      "source": [
        "# pd.read_table() expects the following multi-level column headers:\n",
        "#   A, A, A, A, B, B, B, B\n",
        "#   I, I, J, J, K, K, L, L\n",
        "#   X, Y, X, Y, X, Y, X, Y\n",
        "# But the data we have uses the following header format instead:\n",
        "#   A, B\n",
        "#   I, J, K, L\n",
        "#   X, Y, X, Y, X, Y, X, Y\n",
        "# When confronted with this header, pd.read_table() gets confused and generates\n",
        "# the following multi-level column index:\n",
        "#   A, _, _, _, B, _, _, _\n",
        "#   I, _, J, _, K, _, L, _\n",
        "#   X, Y, X, Y, X, Y, X, Y\n",
        "# Where \"_\" is some autogenerated column name in the form: \"Unnamed: 1_level_0\"\n",
        "# This function restores the correct column names by replacing every \"Unnamed\"\n",
        "# column with the name of the last known column on that level.\n",
        "def fix_unnamed_columns(columns):\n",
        "  last_names = [None] * columns.nlevels\n",
        "  def fix_column(column):\n",
        "    for level, label in enumerate(column):\n",
        "      if not label.startswith('Unnamed: '):\n",
        "        last_names[level] = label\n",
        "    return tuple(last_names)\n",
        "  return pd.MultiIndex.from_tuples(fix_column(column) for column in columns.values)\n",
        "\n",
        "# Expects input in the following form:\n",
        "#   (Additional top column levels)\n",
        "#   FR1                     FR2\n",
        "#   \"Frequency [Hz]\" value  \"Frequency [Hz]\" value\n",
        "#   42.42            1.234  42.42            2.345\n",
        "#   43.43            3.456  43.43            5.678\n",
        "# And reindexes it by the \"Frequency [Hz]\" column, producing:\n",
        "#          value\n",
        "#          (Additional top column labels)\n",
        "#          FR1    FR2\n",
        "#   42.42  1.234  2.345\n",
        "#   43.43  3.456  5.678\n",
        "def index_by_frequency(data):\n",
        "  preserve_column_level = list(range(data.columns.nlevels - 1))\n",
        "  return (data\n",
        "    # Move all columns levels except the bottommost one into the index\n",
        "    .stack(level=preserve_column_level)\n",
        "    # Drop the topmost (default) index level as it's not useful anymore\n",
        "    .reset_index(level=0, drop=True)\n",
        "    # Use the frequency as the new bottommost index level\n",
        "    .set_index('Frequency [Hz]', append=True)\n",
        "    # Move all other index levels back to columns\n",
        "    .unstack(level=preserve_column_level))\n",
        "\n",
        "def load_fr(file):\n",
        "  fr = pd.read_table(file, header=[0,1,2], thousands=',')\n",
        "  fr.columns = fix_unnamed_columns(fr.columns)\n",
        "  return fr.pipe(index_by_frequency)\n",
        "\n",
        "# If the none_missing() assertion fires, it likely means something is wrong or\n",
        "# corrupted in the data files of the speaker (e.g. some frequencies present in\n",
        "# some columns/files but not others)\n",
        "@ed.none_missing()\n",
        "def load_speaker(dir):\n",
        "  return pd.concat((load_fr(file) for file in dir.iterdir()), axis='columns')\n",
        "\n",
        "speakers_fr_raw = pd.concat(\n",
        "  {speaker.Index: load_speaker(Path('speaker_data') / speaker.Index) for speaker in speakers[speakers['Enabled']].itertuples()},\n",
        "  names=['Speaker'], axis='rows')\n",
        "speakers_fr_raw"
      ],
      "execution_count": 0,
      "outputs": []
    },
    {
      "cell_type": "markdown",
      "metadata": {
        "id": "0sxZSHE8e8qV",
        "colab_type": "text"
      },
      "source": [
        "# Raw data summary\n",
        "\n",
        "Basic information about loaded data, including frequency bounds and resolution."
      ]
    },
    {
      "cell_type": "code",
      "metadata": {
        "id": "Aj572tr9e-g1",
        "colab_type": "code",
        "colab": {}
      },
      "source": [
        "speakers_frequencies = (speakers_fr_raw\n",
        "  .index\n",
        "  .to_frame()\n",
        "  .reset_index(drop=True)\n",
        "  .groupby('Speaker'))\n",
        "speakers_frequency_count = speakers_frequencies.count()\n",
        "speakers_min_frequency = speakers_frequencies.min()\n",
        "speakers_max_frequency = speakers_frequencies.max()\n",
        "speakers_octaves = (speakers_max_frequency / speakers_min_frequency).apply(np.log2)\n",
        "speakers_points_per_octave = speakers_frequency_count / speakers_octaves\n",
        "pd.concat([\n",
        "  speakers_frequency_count.rename(columns={'Frequency [Hz]': 'Frequencies'}),\n",
        "  speakers_min_frequency.rename(columns={'Frequency [Hz]': 'Min Frequency (Hz)'}),\n",
        "  speakers_max_frequency.rename(columns={'Frequency [Hz]': 'Max Frequency (Hz)'}),\n",
        "  speakers_octaves.rename(columns={'Frequency [Hz]': 'Extent (octaves)'}),\n",
        "  speakers_points_per_octave.rename(columns={'Frequency [Hz]': 'Resolution (freqs/octave)'})\n",
        "], axis='columns')"
      ],
      "execution_count": 0,
      "outputs": []
    },
    {
      "cell_type": "markdown",
      "metadata": {
        "id": "E-_wPWN6w7FG",
        "colab_type": "text"
      },
      "source": [
        "# Sensitivity\n",
        "\n",
        "This calculates a single sensitivity value for each speaker using the **mean on-axis SPL** in a configurable frequency band. The result can then be used as the basis for normalization (see next section).\n",
        "\n"
      ]
    },
    {
      "cell_type": "markdown",
      "metadata": {
        "id": "wdCEUnXk7BFR",
        "colab_type": "text"
      },
      "source": [
        "The recommended frequency band is **200-400 Hz**, as it appears to be the most appropriate for normalization - c.f. [Olive](http://www.aes.org/e-lib/online/browse.cfm?elib=12847) (section 3.2.1):\n",
        "\n",
        "> The use of a reference band of 200-400 Hz is based\n",
        "> on an observation made in Part One (see section 4.8\n",
        "> of Part 1). When asked to judge the spectral balance of\n",
        "> each loudspeaker across 6 frequency bands, listeners\n",
        "> referenced or anchored their judgments to the band\n",
        "> centered around 200 Hz. One plausible explanation is\n",
        "> that many of the fundamentals of instruments,\n",
        "> including voice, fall within 200-400 Hz, and the\n",
        "> levels of the higher harmonics are referenced to it.\n",
        "\n",
        "Note that in other contexts a band centered around 1 kHz is often used.\n",
        "\n",
        "**CAUTION:** take the numbers in the below table with a grain of salt. Indeed the raw measurement data is using the wrong absolute scale for some speakers, especially active ones."
      ]
    },
    {
      "cell_type": "code",
      "metadata": {
        "id": "QhGjOxtVw955",
        "colab_type": "code",
        "cellView": "both",
        "colab": {}
      },
      "source": [
        "sensitivity_first_frequency_hz = 200 #@param\n",
        "sensitivity_last_frequency_hz = 400 #@param"
      ],
      "execution_count": 0,
      "outputs": []
    },
    {
      "cell_type": "code",
      "metadata": {
        "id": "zKWRxJ8WxgQN",
        "colab_type": "code",
        "colab": {}
      },
      "source": [
        "sensitivity_input_column = ('Sound Pessure Level [dB]  / [2.83V 1m] ', 'CEA2034', 'On Axis')\n",
        "speakers_sensitivity = (speakers_fr_raw\n",
        "  .loc[speakers_fr_raw.index.to_frame()['Frequency [Hz]'].between(sensitivity_first_frequency_hz, sensitivity_last_frequency_hz), sensitivity_input_column]\n",
        "  .mean(level='Speaker'))\n",
        "speakers_sensitivity.to_frame()"
      ],
      "execution_count": 0,
      "outputs": []
    },
    {
      "cell_type": "markdown",
      "metadata": {
        "id": "HvqJh6mEhWWr",
        "colab_type": "text"
      },
      "source": [
        "# Normalization\n",
        "\n",
        "This step normalizes *all* SPL frequency response data (on-axis, spinorama, off-axis, estimated in-room response, etc.) according to the `normalization_mode` variable, which can take the following values:\n",
        "\n",
        " - **None**: raw absolute SPL values are carried over as-is.\n",
        " - **Equal sensitivity** (recommended): sensitivity values calculated in the previous section are subtracted from all SPL values of each speaker, such that all speakers have 0 dB sensitivity. Improves readability and makes it easier to compare speakers.\n",
        " - **Flat on-axis**: the on-axis SPL value is subtracted to itself as well as every other SPL variable at each frequency. In other words this simulates EQ'ing every speaker to be perfectly flat on-axis. Use this mode to focus solely on directivity data.\n",
        "\n",
        "The normalized data is stored in the `speakers_fr_splnorm` variable, which is used as the input of most graphs and calculations that follow. Note that this variable only contains the columns that actually underwent normalization, i.e. absolute SPL columns - in particular it doesn't include the directivity indices."
      ]
    },
    {
      "cell_type": "code",
      "metadata": {
        "id": "7qCapMbNhZk6",
        "colab_type": "code",
        "cellView": "both",
        "colab": {}
      },
      "source": [
        "normalization_mode = 'Equal sensitivity' #@param [\"None\", \"Equal sensitivity\", \"Flat on-axis\"]"
      ],
      "execution_count": 0,
      "outputs": []
    },
    {
      "cell_type": "code",
      "metadata": {
        "id": "Qf6dvIYEURdz",
        "colab_type": "code",
        "colab": {}
      },
      "source": [
        "speakers_fr_splnorm = speakers_fr_raw.loc[:, 'Sound Pessure Level [dB]  / [2.83V 1m] ']\n",
        "if normalization_mode == 'Equal sensitivity':\n",
        "  speakers_fr_splnorm = speakers_fr_splnorm.sub(\n",
        "      speakers_sensitivity, axis='index', level='Speaker')\n",
        "if normalization_mode == 'Flat on-axis':\n",
        "  speakers_fr_splnorm = speakers_fr_splnorm.sub(\n",
        "      speakers_fr_raw.loc[:, ('Sound Pessure Level [dB]  / [2.83V 1m] ', 'CEA2034', 'On Axis')], axis='index')\n",
        "speakers_fr_splnorm"
      ],
      "execution_count": 0,
      "outputs": []
    },
    {
      "cell_type": "markdown",
      "metadata": {
        "id": "C12-wV0U7M-y",
        "colab_type": "text"
      },
      "source": [
        "# Plot settings\n",
        "\n",
        "Here you can customize some parameters related to the charts."
      ]
    },
    {
      "cell_type": "code",
      "metadata": {
        "id": "FlfHUnsr7TCi",
        "colab_type": "code",
        "cellView": "form",
        "colab": {}
      },
      "source": [
        "#@markdown Dimensions for standalone charts\n",
        "standalone_chart_width =  800#@param {type:\"integer\"}\n",
        "standalone_chart_height =  400#@param {type:\"integer\"}\n",
        "#@markdown Dimensions for side-by-side charts\n",
        "sidebyside_chart_width = 600 #@param {type:\"integer\"}\n",
        "sidebyside_chart_height = 300 #@param {type:\"integer\"}"
      ],
      "execution_count": 0,
      "outputs": []
    },
    {
      "cell_type": "code",
      "metadata": {
        "id": "ENSOjscP7Tui",
        "colab_type": "code",
        "cellView": "both",
        "colab": {}
      },
      "source": [
        "import altair as alt\n",
        "\n",
        "alt.data_transformers.disable_max_rows()\n",
        "\n",
        "# Prepares DataFrame `df` for charting using alt.Chart().\n",
        "#\n",
        "# Altair doesn't use the index, so we move it into columns. Then columns are\n",
        "# renamed according to the `columns_mapper` dict. (This is necessary because\n",
        "# Altair doesn't work well with verbose column names, and it doesn't support \n",
        "# multi-level columns anyway.) Columns that don't appear in the dict are\n",
        "# dropped.\n",
        "#\n",
        "# Note: contrary to DataFrame.rename(), in the case of MultiIndex columns,\n",
        "# `columns_mapper` keys are matched against the full column name (i.e. a tuple),\n",
        "# not individual per-level labels. \n",
        "def prepare_alt_chart(df, columns_mapper):\n",
        "  df = df.reset_index().loc[:, list(columns_mapper.keys())]\n",
        "  df.columns = df.columns.map(mapper=columns_mapper)\n",
        "  return df\n",
        "\n",
        "def frequency_response_chart(data, sidebyside=False):\n",
        "  return (alt.Chart(data)\n",
        "    .properties(\n",
        "      width=sidebyside_chart_width if sidebyside else standalone_chart_width,\n",
        "      height=sidebyside_chart_height if sidebyside else standalone_chart_height)\n",
        "    .mark_line(clip=True, interpolate='monotone')\n",
        "    .encode(frequency_xaxis('frequency')))\n",
        "\n",
        "def frequency_xaxis(shorthand):\n",
        "  return alt.X(shorthand, title='Frequency (Hz)', scale=alt.Scale(type='log', base=10, nice=False), axis=alt.Axis(format='s'))\n",
        "\n",
        "def sound_pressure_yaxis(shorthand, title='Relative Sound Pressure (dB)', scale_domain=None):\n",
        "  if scale_domain is None:\n",
        "    scale_domain = (55, 105) if normalization_mode == 'None' else (-40, 10)\n",
        "  return alt.Y(shorthand, title=title, scale=alt.Scale(domain=scale_domain), axis=alt.Axis(grid=True))\n",
        "\n",
        "# Given a DataFrame with some of the columns in the following format:\n",
        "#   'On-Axis' '10°' '20°' '-10°' ...\n",
        "# Converts the above column labels to the following:\n",
        "#   0.0 10.0 20.0 -10.0\n",
        "def convert_angles(df):\n",
        "  def convert_label(label):\n",
        "    if label == 'On-Axis':\n",
        "      return 0.0\n",
        "    stripped_label = label.strip('°')\n",
        "    if stripped_label == label:\n",
        "      return label\n",
        "    try:\n",
        "      return float(stripped_label)\n",
        "    except ValueError:\n",
        "      return label\n",
        "  return df.rename(columns=convert_label)"
      ],
      "execution_count": 0,
      "outputs": []
    },
    {
      "cell_type": "markdown",
      "metadata": {
        "id": "k3AcxFuKZbwt",
        "colab_type": "text"
      },
      "source": [
        "# Measurements\n",
        "\n",
        "Note that all the data shown in this section is a direct representation of the input data after normalization. No complex processing is done. In particular, data for derived metrics such as *Listening Window*, *Early Reflections*, *Sound Power*, Directivity Indices and even *Estimated In-Room Response* come directly from the input - they are not derived by this code."
      ]
    },
    {
      "cell_type": "markdown",
      "metadata": {
        "id": "VcfgDHv2ZjxS",
        "colab_type": "text"
      },
      "source": [
        "## Spinorama\n",
        "\n",
        "The famous CEA/CTA-2034 charts, popularized by Dr. Floyd Toole. These provide a good summary of the measurements from a perceptual perspective. Speakers are presented side-by-side for easy comparison.\n",
        "\n",
        "Remember:\n",
        " - **All the charts are interactive.** Use the mousewheel to zoom, and drag & drop to pan. Re-run the code block to reset the view.\n",
        " - **Charts are not computed if the section they're under is folded while the code runs.** To manually load a chart, click the Run (Play) icon next to the code block above it."
      ]
    },
    {
      "cell_type": "code",
      "metadata": {
        "id": "hdspzIUlFuWe",
        "colab_type": "code",
        "colab": {}
      },
      "source": [
        "spinorama_chart_common = (frequency_response_chart(sidebyside=speakers_fr_splnorm.index.unique('Speaker').size > 1, data=\n",
        "  pd.concat([speakers_fr_splnorm, speakers_fr_raw.loc[:, '[dB] Directivity Index ']], axis='columns')\n",
        "    .pipe(prepare_alt_chart, {\n",
        "      ('Speaker', ''): 'speaker',\n",
        "      ('Frequency [Hz]', ''): 'frequency',\n",
        "      ('CEA2034', 'On Axis'): 'On Axis',\n",
        "      ('CEA2034', 'Listening Window'): 'Listening Window',\n",
        "      ('CEA2034', 'Early Reflections'): 'Early Reflections',\n",
        "      ('CEA2034', 'Sound Power'): 'Sound Power',\n",
        "      ('Directivity Index', 'Early Reflections DI'): 'Early Reflections DI',\n",
        "      ('Directivity Index', 'Sound Power DI'): 'Sound Power DI',\n",
        "    }).melt(['speaker', 'frequency']))\n",
        "  .encode(alt.Color('variable', title=None, sort=None)))\n",
        "\n",
        "# Note that there are few subtleties here because of Altair/Vega quirks:\n",
        "# - To make the Y axes independent, `.resolve_scale()` has to be used *before\n",
        "#   and after* `.facet()`. (In Vega terms, there needs to be a Resolve property\n",
        "#   in *every* view composition specification.)\n",
        "#   - If the first `.resolve_scale()` is removed from the layer spec, the axes\n",
        "#     are not made independent.\n",
        "#   - If the second `.resolve_scale()` is removed from the facet spec, Vega\n",
        "#     throws a weird `Unrecognized scale name: \"child_layer_0_y\"` error.\n",
        "# - To make the two axes zoom and pan at the same time, `.interactive()` has to\n",
        "#   be used on each encoding, not on the overall view. Otherwise only the left\n",
        "#   axis will support zoom & pan.\n",
        "(alt.layer(\n",
        "    spinorama_chart_common\n",
        "      .encode(sound_pressure_yaxis('value'))\n",
        "      .transform_filter(alt.FieldOneOfPredicate(field='variable', oneOf=['On Axis', 'Listening Window', 'Early Reflections', 'Sound Power']))\n",
        "      .interactive(),\n",
        "    spinorama_chart_common\n",
        "      .encode(sound_pressure_yaxis('value', title='Directivity Index (dB)', scale_domain=(-10, 40)))\n",
        "      .transform_filter(alt.FieldOneOfPredicate(field='variable', oneOf=['Early Reflections DI', 'Sound Power DI']))\n",
        "      .interactive())\n",
        "    .resolve_scale(y='independent')\n",
        "    .facet(alt.Column('speaker', title=None))\n",
        "    .resolve_scale(y='independent'))"
      ],
      "execution_count": 0,
      "outputs": []
    },
    {
      "cell_type": "markdown",
      "metadata": {
        "id": "R_AuSbae0CE2",
        "colab_type": "text"
      },
      "source": [
        "## On-axis response"
      ]
    },
    {
      "cell_type": "code",
      "metadata": {
        "id": "BIxJJclZ0Krk",
        "colab_type": "code",
        "colab": {}
      },
      "source": [
        "(frequency_response_chart(speakers_fr_splnorm\n",
        "  .pipe(prepare_alt_chart, {\n",
        "      ('Speaker', ''): 'speaker',\n",
        "      ('Frequency [Hz]', ''): 'frequency',\n",
        "      ('CEA2034', 'On Axis'): 'on_axis',\n",
        "    }))\n",
        "  .encode(\n",
        "    alt.Color('speaker', title='Speaker'),\n",
        "    sound_pressure_yaxis('on_axis', title='On Axis Relative Sound Pressure (dB)'))\n",
        "  .interactive())"
      ],
      "execution_count": 0,
      "outputs": []
    },
    {
      "cell_type": "markdown",
      "metadata": {
        "id": "vgRM35OrpvW1",
        "colab_type": "text"
      },
      "source": [
        "## Off-axis responses"
      ]
    },
    {
      "cell_type": "markdown",
      "metadata": {
        "id": "bjP3nPUZx_9w",
        "colab_type": "text"
      },
      "source": [
        "Note that this chart can be particularly taxing on your browser due to the sheer number of points."
      ]
    },
    {
      "cell_type": "code",
      "metadata": {
        "id": "fh4AJa4kuyMZ",
        "colab_type": "code",
        "colab": {}
      },
      "source": [
        "(frequency_response_chart(sidebyside=speakers_fr_splnorm.index.unique('Speaker').size > 1, data=speakers_fr_splnorm\n",
        "    .loc[:, ['SPL Horizontal', 'SPL Vertical']]\n",
        "    .pipe(convert_angles)\n",
        "    .rename_axis(columns=['Direction', 'Angle'])\n",
        "    .rename(columns={'SPL Horizontal': 'Horizontal', 'SPL Vertical': 'Vertical'}, level='Direction')\n",
        "    .stack(level=['Direction', 'Angle'])\n",
        "    .reset_index()\n",
        "    .pipe(prepare_alt_chart, {\n",
        "        'Speaker': 'speaker',\n",
        "        'Direction': 'direction',\n",
        "        'Angle': 'angle',\n",
        "        'Frequency [Hz]': 'frequency',\n",
        "        0: 'value',\n",
        "      }))\n",
        "  .encode(\n",
        "      alt.Column('speaker', title=None),\n",
        "      alt.Row('direction', title=None),\n",
        "      alt.Color('angle', title='Angle (°)', scale=alt.Scale(scheme='sinebow')),\n",
        "      sound_pressure_yaxis('value'))\n",
        "    .interactive()\n",
        ")"
      ],
      "execution_count": 0,
      "outputs": []
    },
    {
      "cell_type": "markdown",
      "metadata": {
        "id": "zS17Y0dMApUY",
        "colab_type": "text"
      },
      "source": [
        "## Listening Window response"
      ]
    },
    {
      "cell_type": "code",
      "metadata": {
        "id": "48iUY8H-AsHI",
        "colab_type": "code",
        "colab": {}
      },
      "source": [
        "(frequency_response_chart(speakers_fr_splnorm\n",
        "  .pipe(prepare_alt_chart, {\n",
        "      ('Speaker', ''): 'speaker',\n",
        "      ('Frequency [Hz]', ''): 'frequency',\n",
        "      ('CEA2034', 'Listening Window'): 'listening_window',\n",
        "    }))\n",
        "  .encode(\n",
        "    alt.Color('speaker', title='Speaker'),\n",
        "    sound_pressure_yaxis('listening_window', title='Listening Window Relative Sound Pressure (dB)'))\n",
        "  .interactive())"
      ],
      "execution_count": 0,
      "outputs": []
    },
    {
      "cell_type": "markdown",
      "metadata": {
        "id": "4Xyimer4A1oJ",
        "colab_type": "text"
      },
      "source": [
        "## Early Reflections response"
      ]
    },
    {
      "cell_type": "code",
      "metadata": {
        "id": "yuPM6GmIA5q3",
        "colab_type": "code",
        "colab": {}
      },
      "source": [
        "(frequency_response_chart(speakers_fr_splnorm\n",
        "  .pipe(prepare_alt_chart, {\n",
        "      ('Speaker', ''): 'speaker',\n",
        "      ('Frequency [Hz]', ''): 'frequency',\n",
        "      ('CEA2034', 'Early Reflections'): 'early_reflections',\n",
        "    }))\n",
        "  .encode(\n",
        "    alt.Color('speaker', title='Speaker'),\n",
        "    sound_pressure_yaxis('early_reflections', title='Early Reflections Relative Sound Pressure (dB)'))\n",
        "  .interactive())"
      ],
      "execution_count": 0,
      "outputs": []
    },
    {
      "cell_type": "markdown",
      "metadata": {
        "id": "0itIlvlIBBAv",
        "colab_type": "text"
      },
      "source": [
        "## Sound Power response"
      ]
    },
    {
      "cell_type": "code",
      "metadata": {
        "id": "Javo9oSnBDsQ",
        "colab_type": "code",
        "colab": {}
      },
      "source": [
        "(frequency_response_chart(speakers_fr_splnorm\n",
        "  .pipe(prepare_alt_chart, {\n",
        "      ('Speaker', ''): 'speaker',\n",
        "      ('Frequency [Hz]', ''): 'frequency',\n",
        "      ('CEA2034', 'Sound Power'): 'sound_power',\n",
        "    }))\n",
        "  .encode(\n",
        "    alt.Color('speaker', title='Speaker'),\n",
        "    sound_pressure_yaxis('sound_power', title='Sound Power Relative Sound Pressure (dB)'))\n",
        "  .interactive())"
      ],
      "execution_count": 0,
      "outputs": []
    },
    {
      "cell_type": "markdown",
      "metadata": {
        "id": "OmpSXvLwB9Zo",
        "colab_type": "text"
      },
      "source": [
        "## Early Reflections Directivity Index"
      ]
    },
    {
      "cell_type": "code",
      "metadata": {
        "id": "JU5pMDYMCBwY",
        "colab_type": "code",
        "colab": {}
      },
      "source": [
        "(frequency_response_chart(speakers_fr_raw\n",
        "  .pipe(prepare_alt_chart, {\n",
        "      ('Speaker', '', ''): 'speaker',\n",
        "      ('Frequency [Hz]', '', ''): 'frequency',\n",
        "      ('[dB] Directivity Index ', 'Directivity Index', 'Early Reflections DI'): 'early_reflections_di',\n",
        "    }))\n",
        "  .encode(\n",
        "    alt.Color('speaker', title='Speaker'),\n",
        "    sound_pressure_yaxis('early_reflections_di', title='Early Reflections Directivity Index (dB)', scale_domain=(-5, 10)))\n",
        "  .interactive())"
      ],
      "execution_count": 0,
      "outputs": []
    },
    {
      "cell_type": "markdown",
      "metadata": {
        "id": "ZIF8B_hCDSho",
        "colab_type": "text"
      },
      "source": [
        "## Sound Power Directivity Index"
      ]
    },
    {
      "cell_type": "code",
      "metadata": {
        "id": "ZPrJ2pOXDVL3",
        "colab_type": "code",
        "colab": {}
      },
      "source": [
        "(frequency_response_chart(speakers_fr_raw\n",
        "  .pipe(prepare_alt_chart, {\n",
        "      ('Speaker', '', ''): 'speaker',\n",
        "      ('Frequency [Hz]', '', ''): 'frequency',\n",
        "      ('[dB] Directivity Index ', 'Directivity Index', 'Sound Power DI'): 'sound_power_di',\n",
        "    }))\n",
        "  .encode(\n",
        "    alt.Color('speaker', title='Speaker'),\n",
        "    sound_pressure_yaxis('sound_power_di', title='Sound Power Directivity Index (dB)', scale_domain=(-10, 20)))\n",
        "  .interactive())"
      ],
      "execution_count": 0,
      "outputs": []
    },
    {
      "cell_type": "markdown",
      "metadata": {
        "id": "xsMdN7q6D1NP",
        "colab_type": "text"
      },
      "source": [
        "## Estimated In-Room Response\n"
      ]
    },
    {
      "cell_type": "code",
      "metadata": {
        "id": "-RuTb_A7Ehgf",
        "colab_type": "code",
        "colab": {}
      },
      "source": [
        "(frequency_response_chart(speakers_fr_splnorm\n",
        "  .pipe(prepare_alt_chart, {\n",
        "      ('Speaker', ''): 'speaker',\n",
        "      ('Frequency [Hz]', ''): 'frequency',\n",
        "      ('Estimated In-Room Response', 'Estimated In-Room Response'): 'estimated_inroom_response',\n",
        "    }))\n",
        "  .encode(\n",
        "    alt.Color('speaker', title='Speaker'),\n",
        "    sound_pressure_yaxis('estimated_inroom_response', title='Estimated In-Room Response Relative Sound Pressure (dB)'))\n",
        "  .interactive())"
      ],
      "execution_count": 0,
      "outputs": []
    }
  ]
}